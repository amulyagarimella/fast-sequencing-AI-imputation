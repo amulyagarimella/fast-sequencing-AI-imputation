{
 "cells": [
  {
   "cell_type": "code",
   "execution_count": 15,
   "id": "40728a92",
   "metadata": {},
   "outputs": [],
   "source": [
    "import matplotlib.pyplot as plt\n",
    "import seaborn as sns\n",
    "import numpy as np\n",
    "import pandas as pd\n",
    "import pybedtools\n",
    "import pandas as pd\n",
    "from tqdm import tqdm"
   ]
  },
  {
   "cell_type": "code",
   "execution_count": 2,
   "id": "44171d0d",
   "metadata": {},
   "outputs": [
    {
     "data": {
      "text/plain": [
       "Index(['Unnamed: 0', 'Std Sample Name', 'GSM ID', 'Primary Name', 'Study',\n",
       "       'Number of Read Pairs', 'Bio-rep', 'Pulldown or HiC',\n",
       "       'Restriction Enzyme', 'Cell Name', 'Cell Type', 'Organ', 'Biomaterial',\n",
       "       'Disease', '5kb FC Loops (Unfiltered)', '10kb FC Loops (Unfiltered)',\n",
       "       '25kb FC Loops (Unfiltered)', '5kb FC Loops (Filtered)',\n",
       "       '10kb FC Loops (Filtered)', '25kb FC Loops (Filtered)',\n",
       "       '5kb FH Loops (Unfiltered)', '10kb FH Loops (Unfiltered)',\n",
       "       '25kb FH Loops (Unfiltered)', '5kb FH Loops (Filtered)',\n",
       "       '10kb FH Loops (Filtered)', '25kb FH Loops (Filtered)',\n",
       "       '5kb HiCCUPs Loops', '10kb HiCCUPs Loops', '25kb HiCCUPs Loops',\n",
       "       '1kb HiC Loops', '5kb HiC Loops', '5kb FC Longrange (Unfiltered)',\n",
       "       '10kb FC Longrange (Unfiltered)', '25kb FC Longrange (Unfiltered)',\n",
       "       '5kb FC Longrange (Filtered)', '10kb FC Longrange (Filtered)',\n",
       "       '25kb FC Longrange (Filtered)', '5kb FH Longrange (Unfiltered)',\n",
       "       '10kb FH Longrange (Unfiltered)', '25kb FH Longrange (Unfiltered)',\n",
       "       '5kb FH Longrange (Filtered)', '10kb FH Longrange (Filtered)',\n",
       "       '25kb FH Longrange (Filtered)', '5kb HiCCUPs Longrange',\n",
       "       '10kb HiCCUPs Longrange', '25kb HiCCUPs Longrange', '1kb HiC Longrange',\n",
       "       '5kb HiC Longrange', 'CP Peak Number', 'FH Peak Number',\n",
       "       'CP Peak BigBed', 'FH Peak BigBed', 'UUID',\n",
       "       '5kb FC QC Status (Unfiltered)', '10kb FC QC Status (Unfiltered)',\n",
       "       '25kb FC QC Status (Unfiltered)', '5kb FC QC Status (Filtered)',\n",
       "       '10kb FC QC Status (Filtered)', '25kb FC QC Status (Filtered)',\n",
       "       '5kb FH QC Status (Unfiltered)', '10kb FH QC Status (Unfiltered)',\n",
       "       '25kb FH QC Status (Unfiltered)', '5kb FH QC Status (Filtered)',\n",
       "       '10kb FH QC Status (Filtered)', '25kb FH QC Status (Filtered)',\n",
       "       '5kb HiCCUPs QC Status', '10kb HiCCUPs QC Status',\n",
       "       '25kb HiCCUPs QC Status'],\n",
       "      dtype='object')"
      ]
     },
     "execution_count": 2,
     "metadata": {},
     "output_type": "execute_result"
    }
   ],
   "source": [
    "dataset = pd.read_csv('./Loop Catalog.csv')\n",
    "dataset.columns"
   ]
  },
  {
   "cell_type": "code",
   "execution_count": 30,
   "id": "a833f434",
   "metadata": {},
   "outputs": [],
   "source": [
    "def process_loop_catalog_dataset(dataset_path):\n",
    "    \"\"\"\n",
    "    Process the loop catalog dataset to extract relevant columns and convert them to a PyRanges object.\n",
    "    \"\"\"\n",
    "    try:\n",
    "        df = pd.read_csv(dataset_path, compression='gzip', header=None, sep='\\t')\n",
    "    except:\n",
    "        print(f\"Empty data in {dataset_path}\")\n",
    "        return None\n",
    "    extra = df[3].str.split(r',|:|-', expand=True)\n",
    "    df = pd.concat([df.drop(columns=[3]), extra], axis=1)\n",
    "    return df"
   ]
  },
  {
   "cell_type": "code",
   "execution_count": null,
   "id": "1cf361d3",
   "metadata": {},
   "outputs": [
    {
     "name": "stderr",
     "output_type": "stream",
     "text": [
      "  4%|▍         | 4/99 [00:14<07:40,  4.85s/it]Exception ignored in: <bound method IPythonKernel._clean_thread_parent_frames of <ipykernel.ipkernel.IPythonKernel object at 0x10344daf0>>\n",
      "Traceback (most recent call last):\n",
      "  File \"/Users/amulyagarimella/Documents/2241finalproject/.venv/lib/python3.12/site-packages/ipykernel/ipkernel.py\", line 775, in _clean_thread_parent_frames\n",
      "    def _clean_thread_parent_frames(\n",
      "\n",
      "KeyboardInterrupt: \n",
      "  5%|▌         | 5/99 [00:20<08:05,  5.17s/it]"
     ]
    }
   ],
   "source": [
    "overlap_proportions = []\n",
    "for i in tqdm(range(len(dataset))):\n",
    "    df_1kb = process_loop_catalog_dataset(dataset.loc[i, '1kb HiC Longrange'])\n",
    "    if df_1kb is None:\n",
    "        overlap_proportions.append(None)\n",
    "        continue\n",
    "    pbt_1kb = pybedtools.BedTool.from_dataframe(df_1kb)\n",
    "\n",
    "    df_5kb = process_loop_catalog_dataset(dataset.loc[i, '5kb HiC Longrange'])\n",
    "    if df_5kb is None:\n",
    "        overlap_proportions.append(None)\n",
    "        continue\n",
    "    pbt_5kb = pybedtools.BedTool.from_dataframe(df_5kb)\n",
    "\n",
    "    overlap_1kb = pbt_5kb.pair_to_pair(pbt_1kb, type=\"both\")\n",
    "    overlap_proportions.append(len(overlap_1kb)/len(pbt_5kb))\n",
    "\n",
    "dataset['overlap_proportions'] = overlap_proportions"
   ]
  },
  {
   "cell_type": "code",
   "execution_count": null,
   "id": "a24c91aa",
   "metadata": {},
   "outputs": [],
   "source": []
  }
 ],
 "metadata": {
  "kernelspec": {
   "display_name": ".venv",
   "language": "python",
   "name": "python3"
  },
  "language_info": {
   "codemirror_mode": {
    "name": "ipython",
    "version": 3
   },
   "file_extension": ".py",
   "mimetype": "text/x-python",
   "name": "python",
   "nbconvert_exporter": "python",
   "pygments_lexer": "ipython3",
   "version": "3.12.9"
  }
 },
 "nbformat": 4,
 "nbformat_minor": 5
}
