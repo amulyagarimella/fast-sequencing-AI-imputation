{
 "cells": [
  {
   "cell_type": "code",
   "execution_count": 14,
   "id": "588f7bbe",
   "metadata": {},
   "outputs": [],
   "source": [
    "from importlib import reload\n",
    "import os\n",
    "from EnHiC import fit\n",
    "import numpy as np \n",
    "import tensorflow as tf\n",
    "from utils import operations"
   ]
  },
  {
   "cell_type": "code",
   "execution_count": 15,
   "id": "accec802",
   "metadata": {},
   "outputs": [],
   "source": [
    "os.chdir(\"/Users/amulyagarimella/Documents/2241finalproject/EnHiC/\")"
   ]
  },
  {
   "cell_type": "code",
   "execution_count": 16,
   "id": "8ddb9cd5",
   "metadata": {},
   "outputs": [],
   "source": [
    "hic_lr = np.load(\"/Users/amulyagarimella/Documents/2241finalproject/data/input_EnHiC_8000000_400/GM12878/LR/chr21/GM12878_LR_chr21_0-2.npz\", allow_pickle=True)\n"
   ]
  },
  {
   "cell_type": "code",
   "execution_count": 38,
   "id": "2e8f5062",
   "metadata": {},
   "outputs": [],
   "source": [
    "index_1d_2d = hic_lr[\"index_1D_2D\"]"
   ]
  },
  {
   "cell_type": "code",
   "execution_count": 39,
   "id": "72133147",
   "metadata": {},
   "outputs": [],
   "source": [
    "input_dataset = tf.data.Dataset.from_tensor_slices(hic_lr[\"hic\"][..., np.newaxis]).batch(1)"
   ]
  },
  {
   "cell_type": "code",
   "execution_count": 40,
   "id": "1e8e649c",
   "metadata": {},
   "outputs": [
    {
     "data": {
      "text/plain": [
       "<module 'EnHiC.fit' from '/Users/amulyagarimella/Documents/2241finalproject/EnHiC/EnHiC/fit.py'>"
      ]
     },
     "execution_count": 40,
     "metadata": {},
     "output_type": "execute_result"
    }
   ],
   "source": [
    "reload(fit)"
   ]
  },
  {
   "cell_type": "code",
   "execution_count": 41,
   "id": "fa88c0bf",
   "metadata": {},
   "outputs": [
    {
     "name": "stdout",
     "output_type": "stream",
     "text": [
      "Generator: \n",
      " <keras.src.engine.functional.Functional object at 0x318923ee0>\n",
      "input_data shape: (1, 400, 400, 1)\n",
      "input_data shape: (1, 400, 400, 1)\n",
      "input_data shape: (1, 400, 400, 1)\n",
      "prediction shape: (3, 400, 400, 1)\n"
     ]
    }
   ],
   "source": [
    "len_size = 400\n",
    "mpath = os.path.join(\"./\",'pretrained_model', 'gen_model_{}'.format(len_size), 'gen_weights')\n",
    "\n",
    "enhic_pred = fit.predict(model_path = mpath, len_size=400, scale=4, ds=input_dataset)"
   ]
  },
  {
   "cell_type": "code",
   "execution_count": 42,
   "id": "bdbcb51a",
   "metadata": {},
   "outputs": [],
   "source": [
    "enhic_pred = np.squeeze(enhic_pred, axis=3)"
   ]
  },
  {
   "cell_type": "code",
   "execution_count": 43,
   "id": "b494526b",
   "metadata": {},
   "outputs": [
    {
     "data": {
      "text/plain": [
       "(3, 400, 400)"
      ]
     },
     "execution_count": 43,
     "metadata": {},
     "output_type": "execute_result"
    }
   ],
   "source": [
    "enhic_pred.shape"
   ]
  },
  {
   "cell_type": "code",
   "execution_count": 62,
   "id": "2cd39ba1",
   "metadata": {},
   "outputs": [
    {
     "data": {
      "text/plain": [
       "<module 'utils.operations' from '/Users/amulyagarimella/Documents/2241finalproject/EnHiC/EnHiC/utils/operations.py'>"
      ]
     },
     "execution_count": 62,
     "metadata": {},
     "output_type": "execute_result"
    }
   ],
   "source": [
    "reload(operations)"
   ]
  },
  {
   "cell_type": "code",
   "execution_count": 65,
   "id": "a3cb649d",
   "metadata": {},
   "outputs": [
    {
     "name": "stdout",
     "output_type": "stream",
     "text": [
      "lenindex:  3\n",
      "n:  4\n",
      "matrix shape:  (800, 800)\n",
      "h:  0 w:  1\n",
      "x:  0 y:  200\n",
      "x + half height:  200\n",
      "y + half width:  400\n",
      "(200, 200)\n",
      "(200, 200)\n",
      "h:  1 w:  2\n",
      "x:  200 y:  400\n",
      "x + half height:  400\n",
      "y + half width:  600\n",
      "(200, 200)\n",
      "(200, 200)\n",
      "h:  2 w:  3\n",
      "x:  400 y:  600\n",
      "x + half height:  600\n",
      "y + half width:  800\n",
      "(200, 200)\n",
      "(200, 200)\n"
     ]
    }
   ],
   "source": [
    "genomic_distance = 8000000\n",
    "resol = 40000//4 \n",
    "merged = operations.merge_hic(enhic_pred, index_1D_2D=hic_lr[\"index_1D_2D\"].item(), max_distance=genomic_distance//40000)"
   ]
  },
  {
   "cell_type": "code",
   "execution_count": 67,
   "id": "b012c198",
   "metadata": {},
   "outputs": [
    {
     "data": {
      "text/plain": [
       "800"
      ]
     },
     "execution_count": 67,
     "metadata": {},
     "output_type": "execute_result"
    }
   ],
   "source": [
    "8000000//10000"
   ]
  },
  {
   "cell_type": "code",
   "execution_count": 66,
   "id": "f57a3e88",
   "metadata": {},
   "outputs": [
    {
     "data": {
      "text/plain": [
       "(800, 800)"
      ]
     },
     "execution_count": 66,
     "metadata": {},
     "output_type": "execute_result"
    }
   ],
   "source": [
    "merged.shape"
   ]
  },
  {
   "cell_type": "code",
   "execution_count": null,
   "id": "6c8010fa",
   "metadata": {},
   "outputs": [],
   "source": []
  }
 ],
 "metadata": {
  "kernelspec": {
   "display_name": "env_EnHiC",
   "language": "python",
   "name": "python3"
  },
  "language_info": {
   "codemirror_mode": {
    "name": "ipython",
    "version": 3
   },
   "file_extension": ".py",
   "mimetype": "text/x-python",
   "name": "python",
   "nbconvert_exporter": "python",
   "pygments_lexer": "ipython3",
   "version": "3.8.20"
  }
 },
 "nbformat": 4,
 "nbformat_minor": 5
}
