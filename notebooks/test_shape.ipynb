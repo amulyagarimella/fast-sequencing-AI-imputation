{
 "cells": [
  {
   "cell_type": "code",
   "execution_count": 26,
   "id": "923978b1",
   "metadata": {},
   "outputs": [],
   "source": [
    "import numpy as np\n"
   ]
  },
  {
   "cell_type": "code",
   "execution_count": 27,
   "id": "5a9611a7",
   "metadata": {},
   "outputs": [
    {
     "name": "stdout",
     "output_type": "stream",
     "text": [
      "(11, 1, 28, 28)\n"
     ]
    }
   ],
   "source": [
    "a = np.random.rand(11,1,28,28)\n",
    "print(a.shape)"
   ]
  },
  {
   "cell_type": "code",
   "execution_count": 15,
   "id": "666aebad",
   "metadata": {},
   "outputs": [],
   "source": [
    "tu = np.triu_indices(28)"
   ]
  },
  {
   "cell_type": "code",
   "execution_count": null,
   "id": "58fdca13",
   "metadata": {},
   "outputs": [
    {
     "data": {
      "text/plain": [
       "[(406,),\n",
       " (406,),\n",
       " (406,),\n",
       " (406,),\n",
       " (406,),\n",
       " (406,),\n",
       " (406,),\n",
       " (406,),\n",
       " (406,),\n",
       " (406,),\n",
       " (406,)]"
      ]
     },
     "execution_count": 35,
     "metadata": {},
     "output_type": "execute_result"
    }
   ],
   "source": [
    "[x[tu] for x in np.squeeze(a)]"
   ]
  },
  {
   "cell_type": "code",
   "execution_count": null,
   "id": "b15ca6bc",
   "metadata": {},
   "outputs": [
    {
     "data": {
      "text/plain": [
       "(11,)"
      ]
     },
     "execution_count": 19,
     "metadata": {},
     "output_type": "execute_result"
    }
   ],
   "source": [
    ".mean(axis=(1,2)).shape"
   ]
  },
  {
   "cell_type": "code",
   "execution_count": null,
   "id": "9c2bd682",
   "metadata": {},
   "outputs": [],
   "source": []
  }
 ],
 "metadata": {
  "kernelspec": {
   "display_name": "predictions_venv",
   "language": "python",
   "name": "python3"
  },
  "language_info": {
   "codemirror_mode": {
    "name": "ipython",
    "version": 3
   },
   "file_extension": ".py",
   "mimetype": "text/x-python",
   "name": "python",
   "nbconvert_exporter": "python",
   "pygments_lexer": "ipython3",
   "version": "3.11.11"
  }
 },
 "nbformat": 4,
 "nbformat_minor": 5
}
