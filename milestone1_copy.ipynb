{
 "cells": [
  {
   "cell_type": "code",
   "execution_count": 1,
   "id": "40728a92",
   "metadata": {},
   "outputs": [],
   "source": [
    "import matplotlib\n",
    "import matplotlib.pyplot as plt\n",
    "import seaborn as sns\n",
    "import numpy as np\n",
    "import pandas as pd\n",
    "import pybedtools\n",
    "import pandas as pd\n",
    "from tqdm import tqdm\n",
    "import dill as pickle"
   ]
  },
  {
   "cell_type": "code",
   "execution_count": 2,
   "id": "db73125b",
   "metadata": {},
   "outputs": [],
   "source": [
    "import warnings\n",
    "warnings.filterwarnings(\"ignore\")"
   ]
  },
  {
   "cell_type": "code",
   "execution_count": 3,
   "id": "88105113",
   "metadata": {},
   "outputs": [],
   "source": [
    "sns.set_style('white')\n",
    "sns.set_context(\"paper\", font_scale = 3)\n",
    "new_rc_params = {\n",
    "    'text.usetex': False,\n",
    "    'svg.fonttype': 'none',\n",
    "    'figure.figsize': (20, 10),\n",
    "    'font.family': 'Helvetica',\n",
    "}\n",
    "matplotlib.rcParams.update(new_rc_params)\n"
   ]
  },
  {
   "cell_type": "code",
   "execution_count": 4,
   "id": "a833f434",
   "metadata": {},
   "outputs": [],
   "source": [
    "def process_loop_catalog_dataset(dataset_path):\n",
    "    \"\"\"\n",
    "    Process the loop catalog dataset to extract relevant columns and convert them to a PyRanges object.\n",
    "    \"\"\"\n",
    "    df = pd.read_csv(dataset_path, compression='gzip', header=None, sep='\\t')\n",
    "    extra = df[3].str.split(r',|:|-', expand=True)\n",
    "    df = pd.concat([df.drop(columns=[3]), extra], axis=1)\n",
    "    return df"
   ]
  },
  {
   "cell_type": "code",
   "execution_count": 5,
   "id": "1cf361d3",
   "metadata": {},
   "outputs": [],
   "source": [
    "def calc_overlap_proportions (dataset, col1, col2, type, save=False, prefix=\"\"):\n",
    "    overlaps = []\n",
    "    overlaps_scores_1 = []\n",
    "    overlaps_scores_2 = []\n",
    "    n_1 = []\n",
    "    n_2 = []\n",
    "    for i in tqdm(range(min(len(dataset),100))):\n",
    "        try:\n",
    "            df_1 = process_loop_catalog_dataset(dataset.loc[i, col1])\n",
    "                \n",
    "            pbt_1 = pybedtools.BedTool.from_dataframe(df_1)\n",
    "            n_1.append(len(pbt_1))\n",
    "\n",
    "            df_2 = process_loop_catalog_dataset(dataset.loc[i, col2])\n",
    "        \n",
    "            pbt_2 = pybedtools.BedTool.from_dataframe(df_2)\n",
    "            n_2.append(len(pbt_2))\n",
    "\n",
    "            overlap_1 = pbt_2.pair_to_pair(pbt_1, type=type).to_dataframe(disable_auto_names=True, header=None)\n",
    "\n",
    "            overlaps_scores_1.append(overlap_1.iloc[:,13])\n",
    "            overlaps_scores_2.append(overlap_1.iloc[:,6])\n",
    "            #print(f\"Overlap {i}: {overlap_1}\")\n",
    "            overlaps.append(overlap_1)\n",
    "        except:\n",
    "            overlaps.append(pd.DataFrame())\n",
    "            overlaps_scores_1.append(pd.Series())\n",
    "            overlaps_scores_2.append(pd.Series())\n",
    "            n_1.append(0)\n",
    "            n_2.append(0)\n",
    "            continue\n",
    "\n",
    "    #dataset[f'overlaps_{type}'] = overlaps\n",
    "    #dataset[f'n_{1}'] = n_1\n",
    "    #dataset[f'n_{2}'] = n_2\n",
    "\n",
    "    if save:\n",
    "        outfile = f\"{prefix}_overlaps_{col1.replace(\" \", \"_\")}_{col2.replace(\" \", \"_\")}_{type}.pickle\"\n",
    "        pickle.dump((overlaps, n_1, n_2, overlaps_scores_1, overlaps_scores_2),  open(outfile, \"wb\"))\n",
    "\n",
    "    return overlaps, n_1, n_2, overlaps_scores_1, overlaps_scores_2\n",
    "    "
   ]
  },
  {
   "cell_type": "code",
   "execution_count": 30,
   "id": "d5ac34c1",
   "metadata": {},
   "outputs": [],
   "source": [
    "hiccup_dataset = pd.read_csv('./LoopCatalog_1kb_5kb_Hiccups.csv')\n",
    "hiccup_dataset[\"normalization\"] = hiccup_dataset[\"Primary Name\"].str.split('(',expand=True)[1].str.rstrip(')')\n",
    "\n",
    "#hiccup_overlaps, hiccup_n_1, hiccup_n_2, hiccup_overlaps_scores_1, hiccup_overlaps_scores_2 = calc_overlap_proportions(hiccup_dataset, '1kb HiC Longrange', '5kb HiC Longrange', 'either')"
   ]
  },
  {
   "cell_type": "code",
   "execution_count": 6,
   "id": "63213690",
   "metadata": {},
   "outputs": [],
   "source": [
    "fithic_dataset = pd.read_csv('./LoopCatalog_FitHiChip.csv')\n",
    "\n",
    "fithic_dataset[\"normalization\"] = fithic_dataset[\"Primary Name\"].str.split('(',expand=True)[1].str.rstrip(')')"
   ]
  },
  {
   "cell_type": "code",
   "execution_count": 29,
   "id": "8606825a",
   "metadata": {},
   "outputs": [],
   "source": [
    "with open(\"/Users/amulyagarimella/Documents/2241finalproject/either_hiccups.pickle\", \"rb\") as f:\n",
    "    hiccup_overlaps, hiccup_n_1, hiccup_n_2, hiccup_overlaps_scores_1, hiccup_overlaps_scores_2 = pickle.load(f)"
   ]
  },
  {
   "cell_type": "code",
   "execution_count": 7,
   "id": "eb861226",
   "metadata": {},
   "outputs": [
    {
     "name": "stderr",
     "output_type": "stream",
     "text": [
      "100%|██████████| 100/100 [08:31<00:00,  5.11s/it]\n"
     ]
    }
   ],
   "source": [
    "fh_1_5_overlaps, fh_1_5_n_1, fh_1_5_n_2, fh_1_5_overlaps_scores_1, fh_1_5_overlaps_scores_2 = calc_overlap_proportions(fithic_dataset, '5kb FH Longrange (Unfiltered)', '10kb FH Longrange (Unfiltered)', 'either', save=False, prefix=\"fithic\")"
   ]
  },
  {
   "cell_type": "code",
   "execution_count": 26,
   "id": "126ec2a9",
   "metadata": {},
   "outputs": [
    {
     "name": "stderr",
     "output_type": "stream",
     "text": [
      "100%|██████████| 100/100 [12:32<00:00,  7.52s/it]\n"
     ]
    }
   ],
   "source": [
    "fh_10_25_overlaps, fh_10_25_n_1, fh_10_25_n_2, fh_10_25_overlaps_scores_1, fh_10_25_overlaps_scores_2 = calc_overlap_proportions(fithic_dataset, '10kb FH Longrange (Unfiltered)', '25kb FH Longrange (Unfiltered)', 'either', save=False, prefix=\"fithic\")"
   ]
  },
  {
   "cell_type": "code",
   "execution_count": null,
   "id": "41c0a1df",
   "metadata": {},
   "outputs": [],
   "source": [
    "overlaps, n_1, n_2, overlaps_scores_1, overlaps_scores_2 = calc_overlap_proportions(fithic_dataset, '10kb FH Longrange (Unfiltered)', '25kb FH Longrange (Unfiltered)', 'either', save=True, prefix=\"fithic\")"
   ]
  },
  {
   "cell_type": "code",
   "execution_count": null,
   "id": "59c7189d",
   "metadata": {},
   "outputs": [],
   "source": [
    "overlaps"
   ]
  },
  {
   "cell_type": "code",
   "execution_count": 16,
   "id": "35375d92",
   "metadata": {},
   "outputs": [
    {
     "data": {
      "text/html": [
       "<div>\n",
       "<style scoped>\n",
       "    .dataframe tbody tr th:only-of-type {\n",
       "        vertical-align: middle;\n",
       "    }\n",
       "\n",
       "    .dataframe tbody tr th {\n",
       "        vertical-align: top;\n",
       "    }\n",
       "\n",
       "    .dataframe thead th {\n",
       "        text-align: right;\n",
       "    }\n",
       "</style>\n",
       "<table border=\"1\" class=\"dataframe\">\n",
       "  <thead>\n",
       "    <tr style=\"text-align: right;\">\n",
       "      <th></th>\n",
       "      <th>0</th>\n",
       "      <th>1</th>\n",
       "      <th>2</th>\n",
       "      <th>3</th>\n",
       "      <th>4</th>\n",
       "      <th>5</th>\n",
       "      <th>6</th>\n",
       "      <th>7</th>\n",
       "      <th>8</th>\n",
       "      <th>9</th>\n",
       "      <th>10</th>\n",
       "      <th>11</th>\n",
       "      <th>12</th>\n",
       "      <th>13</th>\n",
       "      <th>14</th>\n",
       "      <th>15</th>\n",
       "      <th>16</th>\n",
       "    </tr>\n",
       "  </thead>\n",
       "  <tbody>\n",
       "    <tr>\n",
       "      <th>0</th>\n",
       "      <td>chr1</td>\n",
       "      <td>770000</td>\n",
       "      <td>780000</td>\n",
       "      <td>chr1</td>\n",
       "      <td>850000</td>\n",
       "      <td>860000</td>\n",
       "      <td>2.05586</td>\n",
       "      <td>chr1</td>\n",
       "      <td>775000</td>\n",
       "      <td>780000</td>\n",
       "      <td>chr1</td>\n",
       "      <td>855000</td>\n",
       "      <td>860000</td>\n",
       "      <td>2.13082</td>\n",
       "      <td>NaN</td>\n",
       "      <td>NaN</td>\n",
       "      <td>NaN</td>\n",
       "    </tr>\n",
       "    <tr>\n",
       "      <th>1</th>\n",
       "      <td>chr1</td>\n",
       "      <td>770000</td>\n",
       "      <td>780000</td>\n",
       "      <td>chr1</td>\n",
       "      <td>850000</td>\n",
       "      <td>860000</td>\n",
       "      <td>2.05586</td>\n",
       "      <td>chr1</td>\n",
       "      <td>855000</td>\n",
       "      <td>860000</td>\n",
       "      <td>chr1</td>\n",
       "      <td>775000</td>\n",
       "      <td>780000</td>\n",
       "      <td>2.13082</td>\n",
       "      <td>NaN</td>\n",
       "      <td>NaN</td>\n",
       "      <td>NaN</td>\n",
       "    </tr>\n",
       "    <tr>\n",
       "      <th>2</th>\n",
       "      <td>chr1</td>\n",
       "      <td>850000</td>\n",
       "      <td>860000</td>\n",
       "      <td>chr1</td>\n",
       "      <td>770000</td>\n",
       "      <td>780000</td>\n",
       "      <td>2.05586</td>\n",
       "      <td>chr1</td>\n",
       "      <td>855000</td>\n",
       "      <td>860000</td>\n",
       "      <td>chr1</td>\n",
       "      <td>775000</td>\n",
       "      <td>780000</td>\n",
       "      <td>2.13082</td>\n",
       "      <td>NaN</td>\n",
       "      <td>NaN</td>\n",
       "      <td>NaN</td>\n",
       "    </tr>\n",
       "    <tr>\n",
       "      <th>3</th>\n",
       "      <td>chr1</td>\n",
       "      <td>850000</td>\n",
       "      <td>860000</td>\n",
       "      <td>chr1</td>\n",
       "      <td>770000</td>\n",
       "      <td>780000</td>\n",
       "      <td>2.05586</td>\n",
       "      <td>chr1</td>\n",
       "      <td>775000</td>\n",
       "      <td>780000</td>\n",
       "      <td>chr1</td>\n",
       "      <td>855000</td>\n",
       "      <td>860000</td>\n",
       "      <td>2.13082</td>\n",
       "      <td>NaN</td>\n",
       "      <td>NaN</td>\n",
       "      <td>NaN</td>\n",
       "    </tr>\n",
       "    <tr>\n",
       "      <th>4</th>\n",
       "      <td>chr1</td>\n",
       "      <td>900000</td>\n",
       "      <td>910000</td>\n",
       "      <td>chr1</td>\n",
       "      <td>1270000</td>\n",
       "      <td>1280000</td>\n",
       "      <td>2.00755</td>\n",
       "      <td>chr1</td>\n",
       "      <td>900000</td>\n",
       "      <td>905000</td>\n",
       "      <td>chr1</td>\n",
       "      <td>1315000</td>\n",
       "      <td>1320000</td>\n",
       "      <td>3.53839</td>\n",
       "      <td>NaN</td>\n",
       "      <td>NaN</td>\n",
       "      <td>NaN</td>\n",
       "    </tr>\n",
       "    <tr>\n",
       "      <th>...</th>\n",
       "      <td>...</td>\n",
       "      <td>...</td>\n",
       "      <td>...</td>\n",
       "      <td>...</td>\n",
       "      <td>...</td>\n",
       "      <td>...</td>\n",
       "      <td>...</td>\n",
       "      <td>...</td>\n",
       "      <td>...</td>\n",
       "      <td>...</td>\n",
       "      <td>...</td>\n",
       "      <td>...</td>\n",
       "      <td>...</td>\n",
       "      <td>...</td>\n",
       "      <td>...</td>\n",
       "      <td>...</td>\n",
       "      <td>...</td>\n",
       "    </tr>\n",
       "    <tr>\n",
       "      <th>14847583</th>\n",
       "      <td>chrY</td>\n",
       "      <td>21060000</td>\n",
       "      <td>21070000</td>\n",
       "      <td>chrY</td>\n",
       "      <td>20960000</td>\n",
       "      <td>20970000</td>\n",
       "      <td>3.86036</td>\n",
       "      <td>chrY</td>\n",
       "      <td>20960000</td>\n",
       "      <td>20965000</td>\n",
       "      <td>chrY</td>\n",
       "      <td>21060000</td>\n",
       "      <td>21065000</td>\n",
       "      <td>3.70252</td>\n",
       "      <td>NaN</td>\n",
       "      <td>NaN</td>\n",
       "      <td>NaN</td>\n",
       "    </tr>\n",
       "    <tr>\n",
       "      <th>14847584</th>\n",
       "      <td>chrY</td>\n",
       "      <td>21060000</td>\n",
       "      <td>21070000</td>\n",
       "      <td>chrY</td>\n",
       "      <td>20980000</td>\n",
       "      <td>20990000</td>\n",
       "      <td>2.34963</td>\n",
       "      <td>chrY</td>\n",
       "      <td>21060000</td>\n",
       "      <td>21065000</td>\n",
       "      <td>chrY</td>\n",
       "      <td>20960000</td>\n",
       "      <td>20965000</td>\n",
       "      <td>3.70252</td>\n",
       "      <td>NaN</td>\n",
       "      <td>NaN</td>\n",
       "      <td>NaN</td>\n",
       "    </tr>\n",
       "    <tr>\n",
       "      <th>14847585</th>\n",
       "      <td>chrY</td>\n",
       "      <td>21060000</td>\n",
       "      <td>21070000</td>\n",
       "      <td>chrY</td>\n",
       "      <td>20980000</td>\n",
       "      <td>20990000</td>\n",
       "      <td>2.34963</td>\n",
       "      <td>chrY</td>\n",
       "      <td>21060000</td>\n",
       "      <td>21065000</td>\n",
       "      <td>chrY</td>\n",
       "      <td>20960000</td>\n",
       "      <td>20965000</td>\n",
       "      <td>3.70252</td>\n",
       "      <td>NaN</td>\n",
       "      <td>NaN</td>\n",
       "      <td>NaN</td>\n",
       "    </tr>\n",
       "    <tr>\n",
       "      <th>14847586</th>\n",
       "      <td>chrY</td>\n",
       "      <td>21060000</td>\n",
       "      <td>21070000</td>\n",
       "      <td>chrY</td>\n",
       "      <td>21040000</td>\n",
       "      <td>21050000</td>\n",
       "      <td>5.26865</td>\n",
       "      <td>chrY</td>\n",
       "      <td>21060000</td>\n",
       "      <td>21065000</td>\n",
       "      <td>chrY</td>\n",
       "      <td>20960000</td>\n",
       "      <td>20965000</td>\n",
       "      <td>3.70252</td>\n",
       "      <td>NaN</td>\n",
       "      <td>NaN</td>\n",
       "      <td>NaN</td>\n",
       "    </tr>\n",
       "    <tr>\n",
       "      <th>14847587</th>\n",
       "      <td>chrY</td>\n",
       "      <td>21060000</td>\n",
       "      <td>21070000</td>\n",
       "      <td>chrY</td>\n",
       "      <td>21040000</td>\n",
       "      <td>21050000</td>\n",
       "      <td>5.26865</td>\n",
       "      <td>chrY</td>\n",
       "      <td>21060000</td>\n",
       "      <td>21065000</td>\n",
       "      <td>chrY</td>\n",
       "      <td>20960000</td>\n",
       "      <td>20965000</td>\n",
       "      <td>3.70252</td>\n",
       "      <td>NaN</td>\n",
       "      <td>NaN</td>\n",
       "      <td>NaN</td>\n",
       "    </tr>\n",
       "  </tbody>\n",
       "</table>\n",
       "<p>14847588 rows × 17 columns</p>\n",
       "</div>"
      ],
      "text/plain": [
       "            0         1         2     3         4         5        6     7   \\\n",
       "0         chr1    770000    780000  chr1    850000    860000  2.05586  chr1   \n",
       "1         chr1    770000    780000  chr1    850000    860000  2.05586  chr1   \n",
       "2         chr1    850000    860000  chr1    770000    780000  2.05586  chr1   \n",
       "3         chr1    850000    860000  chr1    770000    780000  2.05586  chr1   \n",
       "4         chr1    900000    910000  chr1   1270000   1280000  2.00755  chr1   \n",
       "...        ...       ...       ...   ...       ...       ...      ...   ...   \n",
       "14847583  chrY  21060000  21070000  chrY  20960000  20970000  3.86036  chrY   \n",
       "14847584  chrY  21060000  21070000  chrY  20980000  20990000  2.34963  chrY   \n",
       "14847585  chrY  21060000  21070000  chrY  20980000  20990000  2.34963  chrY   \n",
       "14847586  chrY  21060000  21070000  chrY  21040000  21050000  5.26865  chrY   \n",
       "14847587  chrY  21060000  21070000  chrY  21040000  21050000  5.26865  chrY   \n",
       "\n",
       "                8         9     10        11        12       13  14  15  16  \n",
       "0           775000    780000  chr1    855000    860000  2.13082 NaN NaN NaN  \n",
       "1           855000    860000  chr1    775000    780000  2.13082 NaN NaN NaN  \n",
       "2           855000    860000  chr1    775000    780000  2.13082 NaN NaN NaN  \n",
       "3           775000    780000  chr1    855000    860000  2.13082 NaN NaN NaN  \n",
       "4           900000    905000  chr1   1315000   1320000  3.53839 NaN NaN NaN  \n",
       "...            ...       ...   ...       ...       ...      ...  ..  ..  ..  \n",
       "14847583  20960000  20965000  chrY  21060000  21065000  3.70252 NaN NaN NaN  \n",
       "14847584  21060000  21065000  chrY  20960000  20965000  3.70252 NaN NaN NaN  \n",
       "14847585  21060000  21065000  chrY  20960000  20965000  3.70252 NaN NaN NaN  \n",
       "14847586  21060000  21065000  chrY  20960000  20965000  3.70252 NaN NaN NaN  \n",
       "14847587  21060000  21065000  chrY  20960000  20965000  3.70252 NaN NaN NaN  \n",
       "\n",
       "[14847588 rows x 17 columns]"
      ]
     },
     "execution_count": 16,
     "metadata": {},
     "output_type": "execute_result"
    }
   ],
   "source": [
    "fh_1_5_overlaps[0]"
   ]
  },
  {
   "cell_type": "code",
   "execution_count": 35,
   "id": "c9cd4235",
   "metadata": {},
   "outputs": [],
   "source": [
    "def prop_high_in_low (dataset, overlaps, n_1, n_2, idx=None):\n",
    "    #if idx is None:\n",
    "    #    idx = np.arange(0,len(dataset)-1)\n",
    "    prop_overlapping = np.array([len(overlaps[i].iloc[:,[8,9,10,11,12,13]].drop_duplicates())/n_1[i] if (len(overlaps[i]) != 0 and n_1[i] != 0) else None for i in range(len(overlaps))]).astype(np.float64)\n",
    "\n",
    "    #prop_overlapping = np.array([len(overlaps[i].iloc[:,[8,9,10,11,12,13]].drop_duplicates())/n_1[i] if (overlaps[i] is not None and n_1[i] is not None) else None for i in range(len(overlaps))]).astype(np.float64)\n",
    "\n",
    "    print(min(prop_overlapping))\n",
    "    print(max(prop_overlapping))\n",
    "    print(np.nanmean(prop_overlapping))\n",
    "\n",
    "    #valid_idx = ~np.isnan(prop_overlapping[idx])\n",
    "    #filtered_props = prop_overlapping[idx][valid_idx]\n",
    "    #filtered_hue = dataset[\"Std Sample Name\"].iloc[idx][valid_idx]\n",
    "\n",
    "    sns.histplot(x=prop_overlapping, palette=\"deep\", linewidth=5, fill=True, alpha=0.5, bins=20, element=\"step\")\n",
    "\n",
    "    #plt.legend(bbox_to_anchor=(1.05, 1), loc=1,)\n",
    "    # plt.tight_layout()\n",
    "    plt.xlim(0, 1)"
   ]
  },
  {
   "cell_type": "code",
   "execution_count": 33,
   "id": "41eb2cc6",
   "metadata": {},
   "outputs": [
    {
     "name": "stdout",
     "output_type": "stream",
     "text": [
      "0.0006466760849234933\n",
      "0.4366883815700736\n",
      "0.21032752378309985\n"
     ]
    },
    {
     "data": {
      "image/png": "[encoded data removed]",
      "text/plain": [
       "<Figure size 2000x1000 with 1 Axes>"
      ]
     },
     "metadata": {},
     "output_type": "display_data"
    }
   ],
   "source": [
    "prop_high_in_low(hiccup_dataset, hiccup_overlaps, hiccup_n_1, hiccup_n_2)"
   ]
  },
  {
   "cell_type": "code",
   "execution_count": 36,
   "id": "744f1be7",
   "metadata": {},
   "outputs": [
    {
     "name": "stdout",
     "output_type": "stream",
     "text": [
      "0.946551724137931\n",
      "0.9991150442477876\n",
      "0.9861691188732805\n"
     ]
    },
    {
     "data": {
      "image/png": "[encoded data removed]",
      "text/plain": [
       "<Figure size 2000x1000 with 1 Axes>"
      ]
     },
     "metadata": {},
     "output_type": "display_data"
    }
   ],
   "source": [
    "prop_high_in_low(fithic_dataset[:100], fh_1_5_overlaps, fh_1_5_n_1, fh_1_5_n_2)"
   ]
  },
  {
   "cell_type": "code",
   "execution_count": 28,
   "id": "62e592de",
   "metadata": {},
   "outputs": [
    {
     "name": "stdout",
     "output_type": "stream",
     "text": [
      "0.943502824858757\n",
      "0.9986658606986883\n",
      "0.9859700204721965\n"
     ]
    },
    {
     "data": {
      "image/png": "[encoded data removed]",
      "text/plain": [
       "<Figure size 2000x1000 with 1 Axes>"
      ]
     },
     "metadata": {},
     "output_type": "display_data"
    }
   ],
   "source": [
    "prop_high_in_low(fithic_dataset[:100], fh_10_25_overlaps, fh_10_25_n_1, fh_10_25_n_2)"
   ]
  },
  {
   "cell_type": "code",
   "execution_count": null,
   "id": "5ff9a773",
   "metadata": {},
   "outputs": [],
   "source": []
  }
 ],
 "metadata": {
  "kernelspec": {
   "display_name": ".venv",
   "language": "python",
   "name": "python3"
  },
  "language_info": {
   "codemirror_mode": {
    "name": "ipython",
    "version": 3
   },
   "file_extension": ".py",
   "mimetype": "text/x-python",
   "name": "python",
   "nbconvert_exporter": "python",
   "pygments_lexer": "ipython3",
   "version": "3.12.9"
  }
 },
 "nbformat": 4,
 "nbformat_minor": 5
}
